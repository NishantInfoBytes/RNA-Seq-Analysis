{
 "cells": [
  {
   "cell_type": "markdown",
   "id": "92aba6d1-f38d-493d-9458-3a635f13e7a1",
   "metadata": {},
   "source": [
    "### `Downloading Fastq Sequence`"
   ]
  },
  {
   "cell_type": "code",
   "execution_count": 1,
   "id": "652cf0a6-f1af-4c5b-a6c4-a6de95304e5f",
   "metadata": {},
   "outputs": [],
   "source": [
    "#!wget ftp://ftp.sra.ebi.ac.uk/vol1/fastq/ERR298/009/ERR2985659/ERR2985659_1.fastq.gz"
   ]
  },
  {
   "cell_type": "code",
   "execution_count": 2,
   "id": "90611653-e4bf-401d-914d-f99c23675af7",
   "metadata": {},
   "outputs": [],
   "source": [
    "#!wget ftp://ftp.sra.ebi.ac.uk/vol1/fastq/ERR298/009/ERR2985659/ERR2985659_2.fastq.gz"
   ]
  },
  {
   "cell_type": "markdown",
   "id": "4b3156c7-49df-4fd5-b71d-aec0764bec0d",
   "metadata": {},
   "source": [
    "### `Read Trimming with Cutadapt`"
   ]
  },
  {
   "cell_type": "code",
   "execution_count": null,
   "id": "831e0461-9257-4707-9c86-d44e7b092572",
   "metadata": {},
   "outputs": [],
   "source": [
    "# Installation \n",
    "!conda install -c bioconda cutadapt \n",
    "# In bash script dont use '!'"
   ]
  },
  {
   "cell_type": "code",
   "execution_count": 1,
   "id": "b628afe1-7bbf-4ed6-9ba6-8a177f2b5541",
   "metadata": {},
   "outputs": [],
   "source": [
    "!mkdir -p cutadapt_trim_output "
   ]
  },
  {
   "cell_type": "code",
   "execution_count": 4,
   "id": "c8189073-2e8f-4378-9c10-9d80306bfb57",
   "metadata": {},
   "outputs": [
    {
     "name": "stdout",
     "output_type": "stream",
     "text": [
      "This is cutadapt 1.18 with Python 3.7.6\n",
      "Command line parameters: --adapter AGATCGGAAGAGCACACGTCTGAACTCCAGTCA -g AGATCGGAAGAGCGTCGTGTAGGGAAAGAGTGT --trim-n --output cutadapt_trim_output/ERR2985659_trim_1.fastq.gz --paired-output cutadapt_trim_output/ERR2985659_trim_2.fastq.gz ERR2985659_1.fastq.gz ERR2985659_2.fastq.gz\n",
      "Processing reads on 1 core in paired-end legacy mode ...\n",
      "WARNING: Legacy mode is enabled. Read modification and filtering options\n",
      "*ignore* the second read. To switch to regular paired-end mode,\n",
      "provide the --pair-filter=any option or use any of the\n",
      "-A/-B/-G/-U/--interleaved options.\n",
      "Finished in 394.98 s (12 us/read; 5.17 M reads/minute).\n",
      "\n",
      "=== Summary ===\n",
      "\n",
      "Total read pairs processed:         34,006,553\n",
      "  Read 1 with adapter:                 672,021 (2.0%)\n",
      "  Read 2 with adapter:                       0 (0.0%)\n",
      "Pairs written (passing filters):    34,006,553 (100.0%)\n",
      "\n",
      "Total basepairs processed: 6,615,557,434 bp\n",
      "  Read 1: 3,328,882,137 bp\n",
      "  Read 2: 3,286,675,297 bp\n",
      "Total written (filtered):  6,613,205,317 bp (100.0%)\n",
      "  Read 1: 3,326,530,020 bp\n",
      "  Read 2: 3,286,675,297 bp\n",
      "\n",
      "=== First read: Adapter 1 ===\n",
      "\n",
      "Sequence: AGATCGGAAGAGCACACGTCTGAACTCCAGTCA; Type: regular 3'; Length: 33; Trimmed: 69421 times.\n",
      "\n",
      "No. of allowed errors:\n",
      "0-9 bp: 0; 10-19 bp: 1; 20-29 bp: 2; 30-33 bp: 3\n",
      "\n",
      "Bases preceding removed adapters:\n",
      "  A: 24.8%\n",
      "  C: 32.2%\n",
      "  G: 22.6%\n",
      "  T: 20.4%\n",
      "  none/other: 0.0%\n",
      "\n",
      "Overview of removed sequences\n",
      "length\tcount\texpect\tmax.err\terror counts\n",
      "3\t53731\t531352.4\t0\t53731\n",
      "4\t12976\t132838.1\t0\t12976\n",
      "5\t2278\t33209.5\t0\t2278\n",
      "6\t149\t8302.4\t0\t149\n",
      "7\t44\t2075.6\t0\t44\n",
      "8\t20\t518.9\t0\t20\n",
      "9\t129\t129.7\t0\t5 124\n",
      "10\t56\t32.4\t1\t1 55\n",
      "11\t21\t8.1\t1\t1 20\n",
      "12\t6\t2.0\t1\t0 6\n",
      "13\t4\t0.5\t1\t0 4\n",
      "15\t5\t0.0\t1\t1 4\n",
      "16\t1\t0.0\t1\t0 1\n",
      "19\t1\t0.0\t1\t0 1\n",
      "\n",
      "=== First read: Adapter 2 ===\n",
      "\n",
      "Sequence: AGATCGGAAGAGCGTCGTGTAGGGAAAGAGTGT; Type: regular 5'; Length: 33; Trimmed: 602600 times.\n",
      "\n",
      "No. of allowed errors:\n",
      "0-9 bp: 0; 10-19 bp: 1; 20-29 bp: 2; 30-33 bp: 3\n",
      "\n",
      "Overview of removed sequences\n",
      "length\tcount\texpect\tmax.err\terror counts\n",
      "3\t313509\t531352.4\t0\t313509\n",
      "4\t269228\t132838.1\t0\t269228\n",
      "5\t17043\t33209.5\t0\t17043\n",
      "6\t1575\t8302.4\t0\t1575\n",
      "7\t318\t2075.6\t0\t318\n",
      "8\t5\t518.9\t0\t5\n",
      "9\t244\t129.7\t0\t5 239\n",
      "10\t223\t32.4\t1\t0 223\n",
      "11\t253\t8.1\t1\t6 247\n",
      "12\t146\t2.0\t1\t1 145\n",
      "13\t45\t0.5\t1\t0 45\n",
      "14\t8\t0.1\t1\t0 8\n",
      "15\t3\t0.0\t1\t0 3\n",
      "\n"
     ]
    }
   ],
   "source": [
    "!cutadapt --adapter AGATCGGAAGAGCACACGTCTGAACTCCAGTCA -g AGATCGGAAGAGCGTCGTGTAGGGAAAGAGTGT --trim-n --output cutadapt_trim_output/ERR2985659_trim_1.fastq.gz --paired-output cutadapt_trim_output/ERR2985659_trim_2.fastq.gz ERR2985659_1.fastq.gz ERR2985659_2.fastq.gz\n",
    "# Regular 3’ adapter\t-a ADAPTER\n",
    "# Regular 5’ adapter\t-g ADAPTER\n",
    "# --trim-n : trim sequences from the ends of reads when they consist solely of N nucleotides. This option is helpful for removing low-quality or ambiguous bases that are often represented as Ns in sequencing data."
   ]
  },
  {
   "cell_type": "code",
   "execution_count": 5,
   "id": "3d43153a-9dc9-48be-948b-fefa2a6ecf6f",
   "metadata": {},
   "outputs": [],
   "source": [
    "!mkdir -p cutadapt_fastqc"
   ]
  },
  {
   "cell_type": "code",
   "execution_count": 9,
   "id": "a2e81ee9",
   "metadata": {},
   "outputs": [],
   "source": [
    "#!fastqc -o cutadapt_fastqc/ cutadapt_trim_output/*.gz"
   ]
  },
  {
   "cell_type": "code",
   "execution_count": 10,
   "id": "6c8e9cc5",
   "metadata": {},
   "outputs": [],
   "source": [
    "!mkdir -p multiqc_cutadapt"
   ]
  },
  {
   "cell_type": "code",
   "execution_count": 21,
   "id": "f87c6b47",
   "metadata": {},
   "outputs": [],
   "source": [
    "#!multiqc cutadapt_fastqc/ -o multiqc_cutadapt/"
   ]
  },
  {
   "cell_type": "markdown",
   "id": "988ecfc8-1613-4af1-ac25-91a336e59e52",
   "metadata": {},
   "source": [
    "# `STAR(Spliced Transcript Aligned To a Reference) Aligner Tool`"
   ]
  },
  {
   "cell_type": "code",
   "execution_count": 27,
   "id": "be94cd0a-f5b8-4265-9865-279b5592da7a",
   "metadata": {},
   "outputs": [],
   "source": [
    "#Installation\n",
    "!conda install -c bioconda star"
   ]
  },
  {
   "cell_type": "markdown",
   "id": "93a00747",
   "metadata": {},
   "source": [
    "## `1-pass mapping with indexed genome with star`"
   ]
  },
  {
   "cell_type": "code",
   "execution_count": 22,
   "id": "9f77f5a6",
   "metadata": {},
   "outputs": [],
   "source": [
    "#Downloading the Genome file and Gff file"
   ]
  },
  {
   "cell_type": "code",
   "execution_count": 22,
   "id": "933255df",
   "metadata": {},
   "outputs": [],
   "source": [
    "!wget https://ftp.ncbi.nlm.nih.gov/genomes/all/GCF/000/195/955/GCF_000195955.2_ASM19595v2/GCF_000195955.2_ASM19595v2_genomic.fna.gz"
   ]
  },
  {
   "cell_type": "code",
   "execution_count": 23,
   "id": "f5bad261",
   "metadata": {},
   "outputs": [],
   "source": [
    "!wget https://ftp.ncbi.nlm.nih.gov/genomes/all/GCF/000/195/955/GCF_000195955.2_ASM19595v2/GCF_000195955.2_ASM19595v2_genomic.gff.gz"
   ]
  },
  {
   "cell_type": "code",
   "execution_count": 24,
   "id": "b5b96e7d",
   "metadata": {},
   "outputs": [],
   "source": [
    "#Unzipping the genome and gff file\n",
    "!gzip -d GCF_000195955.2_ASM19595v2_genomic.fna.gz"
   ]
  },
  {
   "cell_type": "code",
   "execution_count": 19,
   "id": "0b704703",
   "metadata": {},
   "outputs": [],
   "source": [
    "!gzip -d GCF_000195955.2_ASM19595v2_genomic.gff.gz"
   ]
  },
  {
   "cell_type": "markdown",
   "id": "4025c46f",
   "metadata": {},
   "source": [
    "#### `Genome Indexing with STAR`"
   ]
  },
  {
   "cell_type": "code",
   "execution_count": 20,
   "id": "0158a5ce",
   "metadata": {},
   "outputs": [
    {
     "name": "stdout",
     "output_type": "stream",
     "text": [
      "\tSTAR --runMode genomeGenerate --genomeDir genome_data/ --genomeFastaFiles genome_data/GCF_000195955.2_ASM19595v2_genomic.fna --sjdbGTFfile genome_data/GCF_000195955.2_ASM19595v2_genomic.gff --runThreadN 4 --sjdbOverhang 89\n",
      "\tSTAR version: 2.7.10b   compiled: 2022-11-01T09:53:26-04:00 :/home/dobin/data/STAR/STARcode/STAR.master/source\n",
      "Jun 01 16:35:14 ..... started STAR run\n",
      "Jun 01 16:35:14 ... starting to generate Genome files\n",
      "Jun 01 16:35:14 ..... processing annotations GTF\n",
      "!!!!! WARNING: --genomeSAindexNbases 14 is too large for the genome size=4411532, which may cause seg-fault at the mapping step. Re-run genome generation with recommended --genomeSAindexNbases 10\n",
      "Jun 01 16:35:14 ... starting to sort Suffix Array. This may take a long time...\n",
      "Jun 01 16:35:14 ... sorting Suffix Array chunks and saving them to disk...\n",
      "Jun 01 16:35:15 ... loading chunks from disk, packing SA...\n",
      "Jun 01 16:35:15 ... finished generating suffix array\n",
      "Jun 01 16:35:15 ... generating Suffix Array index\n",
      "Jun 01 16:35:18 ... completed Suffix Array index\n",
      "Jun 01 16:35:18 ... writing Genome to disk ...\n",
      "Jun 01 16:35:18 ... writing Suffix Array to disk ...\n",
      "Jun 01 16:35:18 ... writing SAindex to disk\n",
      "Jun 01 16:35:18 ..... finished successfully\n"
     ]
    }
   ],
   "source": [
    "!STAR --runMode genomeGenerate --genomeDir genome_data/ --genomeFastaFiles genome_data/GCF_000195955.2_ASM19595v2_genomic.fna --sjdbGTFfile genome_data/GCF_000195955.2_ASM19595v2_genomic.gff --runThreadN 4 --sjdbOverhang 89\n",
    "#Flags\n",
    "    #--runThreadN: number of threads\n",
    "    #--runMode: genomeGenerate mode\n",
    "    #--genomeDir: /path/to/store/genome_indices [In this case is genome_data]\n",
    "    #--genomeFastaFiles: /path/to/FASTA_file\n",
    "    #--sjdbGTFfile: /path/to/GTF_file\n",
    "    #--sjdbOverhang:(readlength -1)\n",
    "      #length of the genomic sequence around the annotated junction be used in constructing the splice-junctions database"
   ]
  },
  {
   "cell_type": "markdown",
   "id": "e160506e",
   "metadata": {},
   "source": [
    "#### `Mapping with STAR`"
   ]
  },
  {
   "cell_type": "code",
   "execution_count": 21,
   "id": "bcbd6ad6",
   "metadata": {},
   "outputs": [
    {
     "name": "stdout",
     "output_type": "stream",
     "text": [
      "\tSTAR --genomeDir genome_data --readFilesIn reads/ERR2985659_1.fastq.gz reads/ERR2985659_2.fastq.gz --readFilesCommand zcat --outSAMunmapped Within --outFileNamePrefix ERR2985659 --runThreadN 4\n",
      "\tSTAR version: 2.7.10b   compiled: 2022-11-01T09:53:26-04:00 :/home/dobin/data/STAR/STARcode/STAR.master/source\n",
      "Jun 01 16:35:48 ..... started STAR run\n",
      "Jun 01 16:35:48 ..... loading genome\n",
      "Jun 01 16:35:48 ..... started mapping\n",
      "Jun 01 18:26:04 ..... finished mapping\n",
      "Jun 01 18:26:04 ..... finished successfully\n"
     ]
    }
   ],
   "source": [
    "!STAR --genomeDir genome_data --readFilesIn reads/ERR2985659_1.fastq.gz reads/ERR2985659_2.fastq.gz --readFilesCommand zcat --outSAMunmapped Within --outFileNamePrefix ERR2985659 --runThreadN 4\n",
    "'''\n",
    " --runThreadN: number of threads / cores\n",
    "    --readFilesIn: /path/to/FASTQ_file\n",
    "    --genomeDir: /path/to/genome_indices_directory\n",
    "    --outFileNamePrefix: prefix for all output files\n",
    "    --outSAMtype: output filetype (SAM default)\n",
    "    '''"
   ]
  },
  {
   "cell_type": "markdown",
   "id": "7fdca282",
   "metadata": {},
   "source": [
    "## `2-Pass Mapping with STAR`"
   ]
  },
  {
   "cell_type": "markdown",
   "id": "265108b4",
   "metadata": {},
   "source": [
    "`There are two ways in which we can do 2-Pass mapping with Star`\n",
    "\n",
    "##### 1. Re-generating the genome indices from splice junctions obtained from `1-pass`\n",
    "\n",
    "##### 2. Using splice junctions directly during the mapping step"
   ]
  },
  {
   "cell_type": "markdown",
   "id": "11c2871e",
   "metadata": {},
   "source": [
    "### `1. Regenerating the Genome Indices`"
   ]
  },
  {
   "cell_type": "code",
   "execution_count": 26,
   "id": "1216ebe3-1751-4ab8-9d90-ae7168abc3a8",
   "metadata": {},
   "outputs": [],
   "source": [
    "#Building Genome index\n",
    "!mkdir -p star_index_2pass #directory\n",
    "#using the splice junction obtained from 1-pass mapping\n",
    "\n",
    "#Additional Flag that we will use\n",
    "#`--sjdbFileChrStartEnd` : A tab-delimited file that specifies the coordinates of annotated splice junctions in the genome."
   ]
  },
  {
   "cell_type": "code",
   "execution_count": 33,
   "id": "e8ecfd8a",
   "metadata": {},
   "outputs": [
    {
     "name": "stdout",
     "output_type": "stream",
     "text": [
      "\tSTAR --runThreadN 8 --runMode genomeGenerate --genomeDir star_index_2pass --genomeFastaFiles star_index_2pass/GCF_000195955.2_ASM19595v2_genomic.fna --sjdbGTFfile star_index_2pass/GCF_000195955.2_ASM19595v2_genomic.gff --sjdbFileChrStartEnd ERR2985659SJ.out.tab --sjdbOverhang 99\n",
      "\tSTAR version: 2.7.10b   compiled: 2022-11-01T09:53:26-04:00 :/home/dobin/data/STAR/STARcode/STAR.master/source\n",
      "Jun 01 20:29:23 ..... started STAR run\n",
      "Jun 01 20:29:23 ... starting to generate Genome files\n",
      "Jun 01 20:29:23 ..... processing annotations GTF\n",
      "!!!!! WARNING: --genomeSAindexNbases 14 is too large for the genome size=4411532, which may cause seg-fault at the mapping step. Re-run genome generation with recommended --genomeSAindexNbases 10\n",
      "Jun 01 20:29:23 ... starting to sort Suffix Array. This may take a long time...\n",
      "Jun 01 20:29:23 ... sorting Suffix Array chunks and saving them to disk...\n",
      "Jun 01 20:29:23 ... loading chunks from disk, packing SA...\n",
      "Jun 01 20:29:23 ... finished generating suffix array\n",
      "Jun 01 20:29:23 ... generating Suffix Array index\n",
      "Jun 01 20:29:26 ... completed Suffix Array index\n",
      "Jun 01 20:29:26 ..... inserting junctions into the genome indices\n",
      "Jun 01 20:29:29 ... writing Genome to disk ...\n",
      "Jun 01 20:29:29 ... writing Suffix Array to disk ...\n",
      "Jun 01 20:29:29 ... writing SAindex to disk\n",
      "Jun 01 20:29:30 ..... finished successfully\n"
     ]
    }
   ],
   "source": [
    "!STAR --runThreadN 8 --runMode genomeGenerate --genomeDir star_index_2pass --genomeFastaFiles star_index_2pass/GCF_000195955.2_ASM19595v2_genomic.fna --sjdbGTFfile star_index_2pass/GCF_000195955.2_ASM19595v2_genomic.gff --sjdbFileChrStartEnd ERR2985659SJ.out.tab --sjdbOverhang 99"
   ]
  },
  {
   "cell_type": "code",
   "execution_count": 2,
   "id": "609e1a39",
   "metadata": {},
   "outputs": [
    {
     "name": "stdout",
     "output_type": "stream",
     "text": [
      "\tSTAR --runThreadN 6 --readFilesIn reads/ERR2985659_1.fastq.gz reads/ERR2985659_2.fastq.gz --readFilesCommand zcat --genomeDir star_index_2pass/ --outFileNamePrefix ERR2985659_2_pass --outSAMunmapped Within\n",
      "\tSTAR version: 2.7.10b   compiled: 2022-11-01T09:53:26-04:00 :/home/dobin/data/STAR/STARcode/STAR.master/source\n",
      "Jun 02 07:25:15 ..... started STAR run\n",
      "Jun 02 07:25:15 ..... loading genome\n",
      "Jun 02 07:25:16 ..... started mapping\n",
      "Jun 02 09:46:12 ..... finished mapping\n",
      "Jun 02 09:46:12 ..... finished successfully\n"
     ]
    }
   ],
   "source": [
    "!STAR --runThreadN 6 --readFilesIn reads/ERR2985659_1.fastq.gz reads/ERR2985659_2.fastq.gz --readFilesCommand zcat --genomeDir star_index_2pass/ --outFileNamePrefix ERR2985659_2_pass --outSAMunmapped Within"
   ]
  },
  {
   "cell_type": "markdown",
   "id": "0500ded2-b160-4c67-aa10-b047ee5803ce",
   "metadata": {},
   "source": [
    "### `2. Using splice junctions directly during the mapping step`"
   ]
  },
  {
   "cell_type": "code",
   "execution_count": 5,
   "id": "c3a2832d-12cd-4799-acc6-dca4f739721a",
   "metadata": {},
   "outputs": [
    {
     "name": "stdout",
     "output_type": "stream",
     "text": [
      "\tSTAR --runThreadN 12 --readFilesIn reads/ERR2985659_1.fastq.gz reads/ERR2985659_2.fastq.gz --readFilesCommand zcat --genomeDir star_index_2pass/ --sjdbFileChrStartEnd SJ_out_filtered.tab --outFileNamePrefix ERR2985659_star_direct2pass --outSAMunmapped Within\n",
      "\tSTAR version: 2.7.10b   compiled: 2022-11-01T09:53:26-04:00 :/home/dobin/data/STAR/STARcode/STAR.master/source\n",
      "Jun 02 10:24:37 ..... started STAR run\n",
      "Jun 02 10:24:37 ..... loading genome\n",
      "Jun 02 10:24:37 ..... inserting junctions into the genome indices\n",
      "Jun 02 10:24:40 ..... started mapping\n",
      "Jun 02 11:35:42 ..... finished mapping\n",
      "Jun 02 11:35:42 ..... finished successfully\n"
     ]
    }
   ],
   "source": [
    "!STAR --runThreadN 12 --readFilesIn reads/ERR2985659_1.fastq.gz reads/ERR2985659_2.fastq.gz --readFilesCommand zcat --genomeDir star_index_2pass/ --sjdbFileChrStartEnd SJ_out_filtered.tab --outFileNamePrefix ERR2985659_star_direct2pass --outSAMunmapped Within"
   ]
  },
  {
   "cell_type": "markdown",
   "id": "1614eea8-f050-407e-90b2-511df50eb89b",
   "metadata": {},
   "source": [
    "## Read count generation with `Bedtools`"
   ]
  },
  {
   "cell_type": "code",
   "execution_count": 28,
   "id": "be4b7fe2-9a8a-4780-86b4-e5dacda6130c",
   "metadata": {},
   "outputs": [],
   "source": [
    "#Installation\n",
    "!conda install -c bioconda bedtools\n",
    "!conda install -c bioconda samtools"
   ]
  },
  {
   "cell_type": "code",
   "execution_count": 6,
   "id": "873e319e-086f-4893-b096-b7c9f8f708f7",
   "metadata": {},
   "outputs": [],
   "source": [
    "!samtools view -S -b  ERR2985659_star_direct2passAligned.out.sam >ERR2985659.bam"
   ]
  },
  {
   "cell_type": "code",
   "execution_count": 7,
   "id": "0b3d148c-ef36-4ea7-bab3-11d89f373cfd",
   "metadata": {},
   "outputs": [
    {
     "name": "stdout",
     "output_type": "stream",
     "text": [
      "[bam_sort_core] merging from 21 files and 1 in-memory blocks...\n"
     ]
    }
   ],
   "source": [
    "!samtools sort ERR2985659.bam -o ERR2985659_sorted.bam"
   ]
  },
  {
   "cell_type": "code",
   "execution_count": 10,
   "id": "08ba6cc0-ee55-4fe4-a3d2-04d931f4d1bb",
   "metadata": {},
   "outputs": [],
   "source": [
    "!samtools index ERR2985659_sorted.bam"
   ]
  },
  {
   "cell_type": "markdown",
   "id": "b161c0b6-38c9-4f9f-8607-345c7e6b3f6a",
   "metadata": {},
   "source": [
    "`Bedtools`"
   ]
  },
  {
   "cell_type": "code",
   "execution_count": 20,
   "id": "29bfca61-6095-4feb-a697-0e49b52a93f3",
   "metadata": {},
   "outputs": [],
   "source": [
    "!bedtools multicov -bams ERR2985659_sorted.bam -bed genome_data/GCF_000195955.2_ASM19595v2_genomic.gff > read_counts.txt\n",
    "# multicov : reports the count of alignments from multiple position-sorted and indexed BAM files that overlap intervals in a BED file"
   ]
  },
  {
   "cell_type": "code",
   "execution_count": null,
   "id": "b26370e9-7407-45a8-9292-0878192d6b02",
   "metadata": {},
   "outputs": [],
   "source": []
  }
 ],
 "metadata": {
  "kernelspec": {
   "display_name": "Python 3 (ipykernel)",
   "language": "python",
   "name": "python3"
  },
  "language_info": {
   "codemirror_mode": {
    "name": "ipython",
    "version": 3
   },
   "file_extension": ".py",
   "mimetype": "text/x-python",
   "name": "python",
   "nbconvert_exporter": "python",
   "pygments_lexer": "ipython3",
   "version": "3.10.9"
  }
 },
 "nbformat": 4,
 "nbformat_minor": 5
}
