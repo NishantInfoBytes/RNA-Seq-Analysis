{
 "cells": [
  {
   "cell_type": "markdown",
   "id": "1a21afd1",
   "metadata": {},
   "source": [
    "## `RnaSeq-Analysis`\n",
    "\n",
    "Single end Sequencing v/s Paired End Sequencing\n",
    "Single-read sequencing: It involves sequencing DNA from only one end.\n",
    "\n",
    "Paired-end sequencing: Paired-end sequencing allows users to sequence both ends of a fragment and generate high-quality, alignable sequence data\n",
    "\n",
    "For more detail: https://www.illumina.com/science/technology/next-generation-sequencing/plan-experiments/paired-end-vs-single-read.html\n",
    "\n",
    "##### Organism: `Bos taurus\n",
    "\n",
    "Dataset :ftp://ftp.sra.ebi.ac.uk/vol1/fastq/SRR910/007/SRR9106187/SRR9106187.fastq.gz (Single-end data) \n",
    "\n",
    "Genome file: https://ftp.ncbi.nlm.nih.gov/genomes/genbank/vertebrate_mammalian/Bos_taurus/latest_assembly_versions/GCA_000003055.5_Bos_taurus_UMD_3.1.1/GCA_000003055.5_Bos_taurus_UMD_3.1.1_genomic.fna.gz\n",
    "\n",
    "Gtf(Gene Transfer Format) file : https://ftp.ncbi.nlm.nih.gov/genomes/genbank/vertebrate_mammalian/Bos_taurus/latest_assembly_versions/GCA_000003055.5_Bos_taurus_UMD_3.1.1/GCA_000003055.5_Bos_taurus_UMD_3.1.1_genomic.gtf.gz"
   ]
  },
  {
   "cell_type": "markdown",
   "id": "748328d7",
   "metadata": {},
   "source": [
    "#### Pipeline Overview\n",
    "`Fastqc <- MultiQc <- Trimmomatic <- Indexing <- Mapping <- Alignment <- Transcript Quantifiaction/Read Count`"
   ]
  },
  {
   "cell_type": "markdown",
   "id": "f39dd176-bd55-42fa-afe8-ebebf7ed14eb",
   "metadata": {},
   "source": [
    "##### Tools Required\n",
    "`Fastqc`\n",
    "`Multiqc`\n",
    "`Trimmomatic`\n",
    "`Bowtie2`\n",
    "`Samtools`\n",
    "`Subreads`"
   ]
  },
  {
   "cell_type": "code",
   "execution_count": 1,
   "id": "0832c94a-70e4-4c73-98bb-9c22a2780881",
   "metadata": {
    "tags": []
   },
   "outputs": [],
   "source": [
    "!mkdir -p raw fastqc multiqc  ## directory creation "
   ]
  },
  {
   "cell_type": "markdown",
   "id": "4eb7a7eb-24b3-4057-ace2-8a54dc7112c8",
   "metadata": {
    "tags": []
   },
   "source": [
    "##### Download Files"
   ]
  },
  {
   "cell_type": "code",
   "execution_count": 3,
   "id": "fe491cab-e6a7-4f3b-a8d2-edaea94a5bbf",
   "metadata": {
    "tags": []
   },
   "outputs": [
    {
     "name": "stdout",
     "output_type": "stream",
     "text": [
      "--2023-05-16 10:31:08--  https://ftp.ncbi.nlm.nih.gov/genomes/all/GCF/003/925/935/GCF_003925935.1_ASM392593v1/GCF_003925935.1_ASM392593v1_genomic.fna.gz\n",
      "Resolving ftp.ncbi.nlm.nih.gov (ftp.ncbi.nlm.nih.gov)... 2607:f220:41f:250::228, 2607:f220:41e:250::10, 165.112.9.228, ...\n",
      "Connecting to ftp.ncbi.nlm.nih.gov (ftp.ncbi.nlm.nih.gov)|2607:f220:41f:250::228|:443... connected.\n",
      "HTTP request sent, awaiting response... 200 OK\n",
      "Length: 233517 (228K) [application/x-gzip]\n",
      "Saving to: ‘GCF_003925935.1_ASM392593v1_genomic.fna.gz’\n",
      "\n",
      "GCF_003925935.1_ASM 100%[===================>] 228.04K   185KB/s    in 1.2s    \n",
      "\n",
      "2023-05-16 10:31:10 (185 KB/s) - ‘GCF_003925935.1_ASM392593v1_genomic.fna.gz’ saved [233517/233517]\n",
      "\n"
     ]
    }
   ],
   "source": [
    "!wget ftp://ftp.sra.ebi.ac.uk/vol1/fastq/SRR910/007/SRR9106187/SRR9106187.fastq.gz -O raw/SRR9106187.fastq.gz"
   ]
  },
  {
   "cell_type": "markdown",
   "id": "7e14739e",
   "metadata": {},
   "source": [
    "# Quality Analysis "
   ]
  },
  {
   "cell_type": "markdown",
   "id": "9ff29dc1-556d-47ea-80c3-e9d2e0e1605e",
   "metadata": {},
   "source": [
    "##### `Tool used: FastQc`"
   ]
  },
  {
   "cell_type": "markdown",
   "id": "8e159795",
   "metadata": {},
   "source": [
    "#### Tool Installation\n",
    "`conda install -c bioconda fastqc`"
   ]
  },
  {
   "cell_type": "code",
   "execution_count": 1,
   "id": "bc0f6607-2b85-4f16-bfd2-d4617f314501",
   "metadata": {
    "tags": []
   },
   "outputs": [
    {
     "name": "stdout",
     "output_type": "stream",
     "text": [
      "application/gzip\n",
      "Started analysis of SRR9106187.fastq.gz\n",
      "Approx 5% complete for SRR9106187.fastq.gz\n",
      "Approx 10% complete for SRR9106187.fastq.gz\n",
      "Approx 15% complete for SRR9106187.fastq.gz\n",
      "Approx 20% complete for SRR9106187.fastq.gz\n",
      "Approx 25% complete for SRR9106187.fastq.gz\n",
      "Approx 30% complete for SRR9106187.fastq.gz\n",
      "Approx 35% complete for SRR9106187.fastq.gz\n",
      "Approx 40% complete for SRR9106187.fastq.gz\n",
      "Approx 45% complete for SRR9106187.fastq.gz\n",
      "Approx 50% complete for SRR9106187.fastq.gz\n",
      "Approx 55% complete for SRR9106187.fastq.gz\n",
      "Approx 60% complete for SRR9106187.fastq.gz\n",
      "Approx 65% complete for SRR9106187.fastq.gz\n",
      "Approx 70% complete for SRR9106187.fastq.gz\n",
      "Approx 75% complete for SRR9106187.fastq.gz\n",
      "Approx 80% complete for SRR9106187.fastq.gz\n",
      "Approx 85% complete for SRR9106187.fastq.gz\n",
      "Approx 90% complete for SRR9106187.fastq.gz\n",
      "Approx 95% complete for SRR9106187.fastq.gz\n",
      "Approx 100% complete for SRR9106187.fastq.gz\n",
      "Analysis complete for SRR9106187.fastq.gz\n"
     ]
    }
   ],
   "source": [
    "!fastqc raw/*.gz -o fastqc/"
   ]
  },
  {
   "cell_type": "markdown",
   "id": "92c466f0-40e6-4725-992b-e55638bff43e",
   "metadata": {},
   "source": [
    "### Multiqc\n",
    "\n",
    "`Why we use Multiqc Tool?`\n",
    "1. For viewing the stats of multiple sample in one html report.\n",
    "\n",
    "#### fastqc generates one report for one sample that's why we use `multiqc`"
   ]
  },
  {
   "cell_type": "markdown",
   "id": "6208247d",
   "metadata": {},
   "source": [
    "#### Tool Installation \n",
    "`conda install -c bioconda multiqc`"
   ]
  },
  {
   "cell_type": "code",
   "execution_count": 4,
   "id": "fc339208-101a-49af-a745-2c4d6cf4a3d7",
   "metadata": {
    "tags": []
   },
   "outputs": [
    {
     "name": "stdout",
     "output_type": "stream",
     "text": [
      "\n",
      "  \u001b[34m/\u001b[0m\u001b[32m/\u001b[0m\u001b[31m/\u001b[0m \u001b]8;id=665555;https://multiqc.info\u001b\\\u001b[1mMultiQC\u001b[0m\u001b]8;;\u001b\\ 🔍 \u001b[2m| v1.14\u001b[0m\n",
      "\n",
      "\u001b[34m|           multiqc\u001b[0m | Search path : /home/nishant.shekhar/rna-seq-analysis/fastqc\n",
      "\u001b[2K\u001b[34m|\u001b[0m         \u001b[34msearching\u001b[0m | \u001b[38;2;114;156;31m━━━━━━━━━━━━━━━━━━━━━━━━━━━━━━━━━━━━━━━━\u001b[0m \u001b[35m100%\u001b[0m \u001b[32m2/2\u001b[0m    \n",
      "\u001b[?25h\u001b[34m|            fastqc\u001b[0m | Found 1 reports\n",
      "\u001b[34m|           multiqc\u001b[0m | Compressing plot data\n",
      "\u001b[34m|           multiqc\u001b[0m | Report      : multiqc/multiqc_report.html\n",
      "\u001b[34m|           multiqc\u001b[0m | Data        : multiqc/multiqc_data\n",
      "\u001b[34m|           multiqc\u001b[0m | MultiQC complete\n"
     ]
    }
   ],
   "source": [
    "!multiqc fastqc/ -o multiqc/"
   ]
  },
  {
   "cell_type": "markdown",
   "id": "af71bf78",
   "metadata": {},
   "source": [
    "## Quality Control "
   ]
  },
  {
   "cell_type": "markdown",
   "id": "fc126c64",
   "metadata": {},
   "source": [
    "##### `Tool used :Trimmomatic Tool`"
   ]
  },
  {
   "cell_type": "code",
   "execution_count": 19,
   "id": "0fc1fa08",
   "metadata": {},
   "outputs": [],
   "source": [
    "!mkdir -p trim trimmed_fastqc"
   ]
  },
  {
   "cell_type": "code",
   "execution_count": 2,
   "id": "6b46eab0",
   "metadata": {
    "scrolled": true
   },
   "outputs": [
    {
     "name": "stdout",
     "output_type": "stream",
     "text": [
      "--2023-05-16 09:40:46--  http://www.usadellab.org/cms/uploads/supplementary/Trimmomatic/Trimmomatic-0.39.zip\n",
      "Resolving www.usadellab.org (www.usadellab.org)... 46.23.67.235\n",
      "Connecting to www.usadellab.org (www.usadellab.org)|46.23.67.235|:80... connected.\n",
      "HTTP request sent, awaiting response... 200 OK\n",
      "Length: 133596 (130K) [application/zip]\n",
      "Saving to: ‘Trimmomatic-0.39.zip’\n",
      "\n",
      "Trimmomatic-0.39.zi 100%[===================>] 130.46K   261KB/s    in 0.5s    \n",
      "\n",
      "2023-05-16 09:40:47 (261 KB/s) - ‘Trimmomatic-0.39.zip’ saved [133596/133596]\n",
      "\n"
     ]
    }
   ],
   "source": [
    "## Tool Installation \n",
    "!wget http://www.usadellab.org/cms/uploads/supplementary/Trimmomatic/Trimmomatic-0.39.zip"
   ]
  },
  {
   "cell_type": "code",
   "execution_count": 3,
   "id": "1c05c1f7",
   "metadata": {},
   "outputs": [
    {
     "name": "stdout",
     "output_type": "stream",
     "text": [
      "Archive:  Trimmomatic-0.39.zip\n",
      "   creating: Trimmomatic-0.39/\n",
      "  inflating: Trimmomatic-0.39/LICENSE  \n",
      "  inflating: Trimmomatic-0.39/trimmomatic-0.39.jar  \n",
      "   creating: Trimmomatic-0.39/adapters/\n",
      "  inflating: Trimmomatic-0.39/adapters/NexteraPE-PE.fa  \n",
      "  inflating: Trimmomatic-0.39/adapters/TruSeq2-PE.fa  \n",
      "  inflating: Trimmomatic-0.39/adapters/TruSeq2-SE.fa  \n",
      "  inflating: Trimmomatic-0.39/adapters/TruSeq3-PE-2.fa  \n",
      "  inflating: Trimmomatic-0.39/adapters/TruSeq3-PE.fa  \n",
      "  inflating: Trimmomatic-0.39/adapters/TruSeq3-SE.fa  \n"
     ]
    }
   ],
   "source": [
    "!unzip Trimmomatic-0.39.zip"
   ]
  },
  {
   "cell_type": "markdown",
   "id": "c58fc520",
   "metadata": {},
   "source": [
    "`Here I am just showing you how to use trimmomatic tool`\n",
    "#Here the sample is already good"
   ]
  },
  {
   "cell_type": "code",
   "execution_count": 2,
   "id": "3c3c28a6",
   "metadata": {},
   "outputs": [
    {
     "name": "stdout",
     "output_type": "stream",
     "text": [
      "TrimmomaticSE: Started with arguments:\n",
      " raw/SRR9106187.fastq.gz trim/SRR9106187_trim.fastq.gz ILLUMINACLIP:/home/nishant.shekhar/rna-seq-analysis/Trimmomatic-0.39/adapters/TruSeq3-SE.fa:2:30:10 LEADING:3 TRAILING:3 SLIDINGWINDOW:4:15 MINLEN:36\n",
      "Automatically using 1 threads\n",
      "Using Long Clipping Sequence: 'AGATCGGAAGAGCGTCGTGTAGGGAAAGAGTGTA'\n",
      "Using Long Clipping Sequence: 'AGATCGGAAGAGCACACGTCTGAACTCCAGTCAC'\n",
      "ILLUMINACLIP: Using 0 prefix pairs, 2 forward/reverse sequences, 0 forward only sequences, 0 reverse only sequences\n",
      "Quality encoding detected as phred33\n",
      "Input Reads: 4000000 Surviving: 3747713 (93.69%) Dropped: 252287 (6.31%)\n",
      "TrimmomaticSE: Completed successfully\n"
     ]
    }
   ],
   "source": [
    "!java -jar Trimmomatic-0.39/trimmomatic-0.39.jar SE raw/SRR9106187.fastq.gz trim/SRR9106187_trim.fastq.gz ILLUMINACLIP:\"/home/nishant.shekhar/rna-seq-analysis/Trimmomatic-0.39/adapters/TruSeq3-SE.fa\":2:30:10 LEADING:3 TRAILING:3 SLIDINGWINDOW:4:15 MINLEN:36"
   ]
  },
  {
   "cell_type": "markdown",
   "id": "e98c0b75",
   "metadata": {},
   "source": [
    "`Please refer here for flags used in Trimmomatic tool:`http://www.usadellab.org/cms/?page=trimmomatic"
   ]
  },
  {
   "cell_type": "markdown",
   "id": "705157a6",
   "metadata": {},
   "source": [
    "#We again run `fastqc` to check trimmed reads.\n",
    "\n",
    "`To compare the intial fastqc report and the trimmed fastqc report`"
   ]
  },
  {
   "cell_type": "markdown",
   "id": "a0bf3700",
   "metadata": {},
   "source": [
    "##### If we install it Trimmomatic tool through conda. Use below command"
   ]
  },
  {
   "cell_type": "code",
   "execution_count": null,
   "id": "703af654",
   "metadata": {},
   "outputs": [],
   "source": [
    "## Tool installation \n",
    "# conda install -c bioconda trimmomatic"
   ]
  },
  {
   "cell_type": "markdown",
   "id": "3f85affb",
   "metadata": {},
   "source": [
    "`!mkdir -p trim_conda` #### for generating trim output using conda installation"
   ]
  },
  {
   "cell_type": "markdown",
   "id": "4e51713d",
   "metadata": {},
   "source": [
    "`trimmomatic SE raw/SRR9106187.fastq.gz trim_conda/SRR9106187_trim.fastq.gz ILLUMINACLIP:\"/home/nishant.shekhar/miniconda3/pkgs/trimmomatic-0.39-hdfd78af_2/share/trimmomatic-0.39-2/adapters/TruSeq3-SE.fa\":2:30:10 LEADING:3 TRAILING:3 SLIDINGWINDOW:4:15 MINLEN:36`\n",
    "\n",
    "##Adapters path: /home/nishant.shekhar/miniconda3/pkgs/trimmomatic-0.39-hdfd78af_2/share/trimmomatic-0.39-2/adapters/   : use this path for adapters by going inside the miniconda "
   ]
  },
  {
   "cell_type": "markdown",
   "id": "0af1761f",
   "metadata": {},
   "source": [
    "##### Note\n",
    "#####  If we are doing reference base EXP/DEG. Raw data itself of very good quality. So we directly move ahead with raw data itself.\n",
    "##### When we do trimming, length plot get distrub due to cutting.\n",
    "##### Again few sequences become shorter due to cutting and become `Overrepresented`\n",
    "##### GC content didn't change because most of reads were unaffected from trimming\n",
    "##### Per base content slightly changed. \n",
    "##### Most important scenario we look at `Adapter Content`\n",
    "##### Data after trimming also fine."
   ]
  },
  {
   "cell_type": "code",
   "execution_count": 3,
   "id": "f39e47d8",
   "metadata": {},
   "outputs": [
    {
     "name": "stdout",
     "output_type": "stream",
     "text": [
      "application/gzip\n",
      "Started analysis of SRR9106187_trim.fastq.gz\n",
      "Approx 5% complete for SRR9106187_trim.fastq.gz\n",
      "Approx 10% complete for SRR9106187_trim.fastq.gz\n",
      "Approx 15% complete for SRR9106187_trim.fastq.gz\n",
      "Approx 20% complete for SRR9106187_trim.fastq.gz\n",
      "Approx 25% complete for SRR9106187_trim.fastq.gz\n",
      "Approx 30% complete for SRR9106187_trim.fastq.gz\n",
      "Approx 35% complete for SRR9106187_trim.fastq.gz\n",
      "Approx 40% complete for SRR9106187_trim.fastq.gz\n",
      "Approx 45% complete for SRR9106187_trim.fastq.gz\n",
      "Approx 50% complete for SRR9106187_trim.fastq.gz\n",
      "Approx 55% complete for SRR9106187_trim.fastq.gz\n",
      "Approx 60% complete for SRR9106187_trim.fastq.gz\n",
      "Approx 65% complete for SRR9106187_trim.fastq.gz\n",
      "Approx 70% complete for SRR9106187_trim.fastq.gz\n",
      "Approx 75% complete for SRR9106187_trim.fastq.gz\n",
      "Approx 80% complete for SRR9106187_trim.fastq.gz\n",
      "Approx 85% complete for SRR9106187_trim.fastq.gz\n",
      "Approx 90% complete for SRR9106187_trim.fastq.gz\n",
      "Approx 95% complete for SRR9106187_trim.fastq.gz\n",
      "Analysis complete for SRR9106187_trim.fastq.gz\n"
     ]
    }
   ],
   "source": [
    "!fastqc trim/SRR9106187_trim.fastq.gz -o trimmed_fastqc/"
   ]
  },
  {
   "cell_type": "markdown",
   "id": "95e3c76d",
   "metadata": {},
   "source": [
    "## Indexing and Mapping with Bowtie2"
   ]
  },
  {
   "cell_type": "markdown",
   "id": "f64f6630",
   "metadata": {},
   "source": [
    "##### `Tool used: bowtie2`"
   ]
  },
  {
   "cell_type": "markdown",
   "id": "f13a345c",
   "metadata": {},
   "source": [
    "### Files required For Indexing and Mapping/Alignment "
   ]
  },
  {
   "cell_type": "markdown",
   "id": "3a6b0729",
   "metadata": {},
   "source": [
    "`1. Download the genome file`\n",
    "\n",
    "##### Genome and gtf file used here is of Bos Taurus because the data that we had taken is of Mastitis which occurs in `cows`"
   ]
  },
  {
   "cell_type": "code",
   "execution_count": 2,
   "id": "a5b6c771",
   "metadata": {},
   "outputs": [
    {
     "name": "stdout",
     "output_type": "stream",
     "text": [
      "--2023-05-16 11:05:14--  https://ftp.ncbi.nlm.nih.gov/genomes/genbank/vertebrate_mammalian/Bos_taurus/latest_assembly_versions/GCA_000003055.5_Bos_taurus_UMD_3.1.1/GCA_000003055.5_Bos_taurus_UMD_3.1.1_genomic.fna.gz\n",
      "Resolving ftp.ncbi.nlm.nih.gov (ftp.ncbi.nlm.nih.gov)... 2607:f220:41f:250::230, 2607:f220:41e:250::11, 165.112.9.229, ...\n",
      "Connecting to ftp.ncbi.nlm.nih.gov (ftp.ncbi.nlm.nih.gov)|2607:f220:41f:250::230|:443... connected.\n",
      "HTTP request sent, awaiting response... 200 OK\n",
      "Length: 829520072 (791M) [application/x-gzip]\n",
      "Saving to: ‘GCA_000003055.5_Bos_taurus_UMD_3.1.1_genomic.fna.gz’\n",
      "\n",
      "GCA_000003055.5_Bos 100%[===================>] 791.09M  9.37MB/s    in 20m 45s \n",
      "\n",
      "2023-05-16 11:26:01 (651 KB/s) - ‘GCA_000003055.5_Bos_taurus_UMD_3.1.1_genomic.fna.gz’ saved [829520072/829520072]\n",
      "\n"
     ]
    }
   ],
   "source": [
    "!wget https://ftp.ncbi.nlm.nih.gov/genomes/genbank/vertebrate_mammalian/Bos_taurus/latest_assembly_versions/GCA_000003055.5_Bos_taurus_UMD_3.1.1/GCA_000003055.5_Bos_taurus_UMD_3.1.1_genomic.fna.gz"
   ]
  },
  {
   "cell_type": "markdown",
   "id": "6cc9aec2",
   "metadata": {},
   "source": [
    "`2. Download the GTF file` "
   ]
  },
  {
   "cell_type": "code",
   "execution_count": 3,
   "id": "cff53457",
   "metadata": {},
   "outputs": [
    {
     "name": "stdout",
     "output_type": "stream",
     "text": [
      "--2023-05-16 11:29:00--  https://ftp.ncbi.nlm.nih.gov/genomes/genbank/vertebrate_mammalian/Bos_taurus/latest_assembly_versions/GCA_000003055.5_Bos_taurus_UMD_3.1.1/GCA_000003055.5_Bos_taurus_UMD_3.1.1_genomic.gtf.gz\n",
      "Resolving ftp.ncbi.nlm.nih.gov (ftp.ncbi.nlm.nih.gov)... 2607:f220:41f:250::229, 2607:f220:41f:250::228, 130.14.250.12, ...\n",
      "Connecting to ftp.ncbi.nlm.nih.gov (ftp.ncbi.nlm.nih.gov)|2607:f220:41f:250::229|:443... connected.\n",
      "HTTP request sent, awaiting response... 200 OK\n",
      "Length: 6827585 (6.5M) [application/x-gzip]\n",
      "Saving to: ‘GCA_000003055.5_Bos_taurus_UMD_3.1.1_genomic.gtf.gz’\n",
      "\n",
      "GCA_000003055.5_Bos 100%[===================>]   6.51M   833KB/s    in 8.0s    \n",
      "\n",
      "2023-05-16 11:29:09 (833 KB/s) - ‘GCA_000003055.5_Bos_taurus_UMD_3.1.1_genomic.gtf.gz’ saved [6827585/6827585]\n",
      "\n"
     ]
    }
   ],
   "source": [
    "!wget https://ftp.ncbi.nlm.nih.gov/genomes/genbank/vertebrate_mammalian/Bos_taurus/latest_assembly_versions/GCA_000003055.5_Bos_taurus_UMD_3.1.1/GCA_000003055.5_Bos_taurus_UMD_3.1.1_genomic.gtf.gz"
   ]
  },
  {
   "cell_type": "markdown",
   "id": "f2ec30bb",
   "metadata": {},
   "source": [
    "`#INDEXING with Bowtie2`"
   ]
  },
  {
   "cell_type": "code",
   "execution_count": 6,
   "id": "0b756bcc",
   "metadata": {},
   "outputs": [],
   "source": [
    "!mkdir -p mapping  ## directory creation"
   ]
  },
  {
   "cell_type": "markdown",
   "id": "2750d343",
   "metadata": {},
   "source": [
    "`#Unzip both the fna and gtf file`"
   ]
  },
  {
   "cell_type": "code",
   "execution_count": 4,
   "id": "38d6e68b",
   "metadata": {},
   "outputs": [],
   "source": [
    "!gunzip GCA_000003055.5_Bos_taurus_UMD_3.1.1_genomic.fna.gz"
   ]
  },
  {
   "cell_type": "code",
   "execution_count": 5,
   "id": "00d5a62c",
   "metadata": {},
   "outputs": [],
   "source": [
    "!gunzip GCA_000003055.5_Bos_taurus_UMD_3.1.1_genomic.gtf.gz"
   ]
  },
  {
   "cell_type": "markdown",
   "id": "70c8de35",
   "metadata": {},
   "source": [
    "#### Tool Installation\n",
    "`conda install -c bioconda bowtie2`"
   ]
  },
  {
   "cell_type": "markdown",
   "id": "33a823b7",
   "metadata": {},
   "source": [
    "`Indexing steps`"
   ]
  },
  {
   "cell_type": "code",
   "execution_count": 8,
   "id": "707c71ec",
   "metadata": {},
   "outputs": [],
   "source": [
    "!bowtie2-build GCA_000003055.5_Bos_taurus_UMD_3.1.1_genomic.fna mapping/bos_taurus\n",
    "\n",
    "## Inside the mapping directory it will save the index file with prefix `bos_taurus`"
   ]
  },
  {
   "cell_type": "markdown",
   "id": "a4cbef30",
   "metadata": {},
   "source": [
    "`Mapping Step`"
   ]
  },
  {
   "cell_type": "code",
   "execution_count": 10,
   "id": "98594bcd",
   "metadata": {},
   "outputs": [
    {
     "name": "stdout",
     "output_type": "stream",
     "text": [
      "4000000 reads; of these:\n",
      "  4000000 (100.00%) were unpaired; of these:\n",
      "    1522800 (38.07%) aligned 0 times\n",
      "    2022147 (50.55%) aligned exactly 1 time\n",
      "    455053 (11.38%) aligned >1 times\n",
      "61.93% overall alignment rate\n"
     ]
    }
   ],
   "source": [
    "!bowtie2 -x mapping/bos_taurus -U raw/SRR9106187.fastq.gz -S mapping/SRR9106187.sam"
   ]
  },
  {
   "cell_type": "markdown",
   "id": "97125f0e",
   "metadata": {},
   "source": [
    "# Convert Sam to Bam Format"
   ]
  },
  {
   "cell_type": "markdown",
   "id": "28cb74ef",
   "metadata": {},
   "source": [
    "##### `Tool used: Samtools`"
   ]
  },
  {
   "cell_type": "markdown",
   "id": "d7e7d51d",
   "metadata": {},
   "source": [
    "#### Tools installation \n",
    "`conda install -c bioconda samtools`\n",
    "\n",
    "*** you can specify the version of samtools also \n",
    "`conda install -c bioconda samtools=1.6`"
   ]
  },
  {
   "cell_type": "code",
   "execution_count": 15,
   "id": "4be47f8b",
   "metadata": {},
   "outputs": [],
   "source": [
    "!samtools view -S -b mapping/SRR9106187.sam >mapping/SRR9106187.bam\n",
    "\n",
    "## flags explanation link : http://www.htslib.org/doc/samtools.html"
   ]
  },
  {
   "cell_type": "markdown",
   "id": "77e057e7-6a36-47b2-858e-4bf8e5d9f404",
   "metadata": {},
   "source": [
    "***** `For doing work effficiently and to reduce our time. At mapping step we can do piping and directly generate the bam file`"
   ]
  },
  {
   "cell_type": "code",
   "execution_count": 1,
   "id": "3bc6e1c5-035a-4536-a609-a6b173f0a49f",
   "metadata": {},
   "outputs": [
    {
     "name": "stdout",
     "output_type": "stream",
     "text": [
      "4000000 reads; of these:\r\n",
      "  4000000 (100.00%) were unpaired; of these:\r\n",
      "    1522800 (38.07%) aligned 0 times\r\n",
      "    2022147 (50.55%) aligned exactly 1 time\r\n",
      "    455053 (11.38%) aligned >1 times\r\n",
      "61.93% overall alignment rate\r\n"
     ]
    }
   ],
   "source": [
    "!bowtie2 -x mapping/bos_taurus -U raw/SRR9106187.fastq.gz | samtools view -Sb - > SRR9106187_direct_convert.bam"
   ]
  },
  {
   "cell_type": "markdown",
   "id": "7b910f36",
   "metadata": {},
   "source": [
    "# Transcript Quantification/Read Counts"
   ]
  },
  {
   "cell_type": "markdown",
   "id": "e627abee",
   "metadata": {},
   "source": [
    "##### `Tools used: FeatureCount`"
   ]
  },
  {
   "cell_type": "markdown",
   "id": "66466a0c",
   "metadata": {},
   "source": [
    "####  Tool installation\n",
    "`conda install -c bioconda subreads`\n",
    "\n",
    "`Inside subread package we have featurecount tool`"
   ]
  },
  {
   "cell_type": "code",
   "execution_count": 9,
   "id": "3d0350e0",
   "metadata": {},
   "outputs": [],
   "source": [
    "!mkdir -p read_count ## directory creation "
   ]
  },
  {
   "cell_type": "code",
   "execution_count": 2,
   "id": "7c0b0d76",
   "metadata": {},
   "outputs": [
    {
     "name": "stdout",
     "output_type": "stream",
     "text": [
      "\n",
      "       \u001b[44;37m ========== \u001b[0m\u001b[36m    _____ _    _ ____  _____  ______          _____  \n",
      "       \u001b[44;37m =====      \u001b[0m\u001b[36m   / ____| |  | |  _ \\|  __ \\|  ____|   /\\   |  __ \\ \n",
      "       \u001b[44;37m   =====    \u001b[0m\u001b[36m  | (___ | |  | | |_) | |__) | |__     /  \\  | |  | |\n",
      "       \u001b[44;37m     ====   \u001b[0m\u001b[36m   \\___ \\| |  | |  _ <|  _  /|  __|   / /\\ \\ | |  | |\n",
      "       \u001b[44;37m       ==== \u001b[0m\u001b[36m   ____) | |__| | |_) | | \\ \\| |____ / ____ \\| |__| |\n",
      "       \u001b[44;37m ========== \u001b[0m\u001b[36m  |_____/ \\____/|____/|_|  \\_\\______/_/    \\_\\_____/\u001b[0m\n",
      "\t  v2.0.1\n",
      "\n",
      "//==========================\u001b[36m featureCounts setting \u001b[0m===========================\\\\\n",
      "||  \u001b[0m                                                                          ||\n",
      "||             Input files : \u001b[36m1 BAM file  \u001b[0m \u001b[0m                                    ||\n",
      "||                           \u001b[32mo\u001b[36m SRR9106187.bam\u001b[0m \u001b[0m                                ||\n",
      "||  \u001b[0m                                                                          ||\n",
      "||             Output file : \u001b[36mbowtie_fct_gene\u001b[0m \u001b[0m                                 ||\n",
      "||                 Summary : \u001b[36mbowtie_fct_gene.summary\u001b[0m \u001b[0m                         ||\n",
      "||              Annotation : \u001b[36mGCA_000003055.5_Bos_taurus_UMD_3.1.1_genomic\u001b[0m ...\u001b[0m \u001b[0m||\n",
      "||      Dir for temp files : \u001b[36mread_count\u001b[0m \u001b[0m                                      ||\n",
      "||  \u001b[0m                                                                          ||\n",
      "||                 Threads : \u001b[36m10\u001b[0m \u001b[0m                                              ||\n",
      "||                   Level : \u001b[36mmeta-feature level\u001b[0m \u001b[0m                              ||\n",
      "||              Paired-end : \u001b[36mno\u001b[0m \u001b[0m                                              ||\n",
      "||      Multimapping reads : \u001b[36mcounted\u001b[0m \u001b[0m                                         ||\n",
      "|| Multi-overlapping reads : \u001b[36mcounted\u001b[0m \u001b[0m                                         ||\n",
      "||   Min overlapping bases : \u001b[36m1\u001b[0m \u001b[0m                                               ||\n",
      "||  \u001b[0m                                                                          ||\n",
      "\\\\============================================================================//\n",
      "\n",
      "//=================================\u001b[36m Running \u001b[0m==================================\\\\\n",
      "||  \u001b[0m                                                                          ||\n",
      "|| Load annotation file GCA_000003055.5_Bos_taurus_UMD_3.1.1_genomic.gtf \u001b[0m... \u001b[0m ||\n",
      "||    Features : \u001b[36m206231\u001b[0m \u001b[0m                                                      ||\n",
      "||    Meta-features : \u001b[36m22109\u001b[0m \u001b[0m                                                  ||\n",
      "||    Chromosomes/contigs : \u001b[36m103\u001b[0m \u001b[0m                                              ||\n",
      "||  \u001b[0m                                                                          ||\n",
      "|| Process BAM file SRR9106187.bam... \u001b[0m                                        ||\n",
      "||    Single-end reads are included. \u001b[0m                                         ||\n",
      "||    Total alignments : \u001b[36m4000000\u001b[0m \u001b[0m                                             ||\n",
      "||    Successfully assigned alignments : \u001b[36m1651561 (41.3%)\u001b[0m \u001b[0m                     ||\n",
      "||    Running time : \u001b[36m0.01 minutes\u001b[0m \u001b[0m                                            ||\n",
      "||  \u001b[0m                                                                          ||\n",
      "|| Write the final count table. \u001b[0m                                              ||\n",
      "|| Write the read assignment summary. \u001b[0m                                        ||\n",
      "||  \u001b[0m                                                                          ||\n",
      "|| Summary of counting results can be found in file \"read_count/bowtie_fct_g \u001b[0m ||\n",
      "|| ene.summary\" \u001b[0m                                                              ||\n",
      "||  \u001b[0m                                                                          ||\n",
      "\\\\============================================================================//\n",
      "\n"
     ]
    }
   ],
   "source": [
    "!featureCounts -g gene_id -T 10 -O -M -a GCA_000003055.5_Bos_taurus_UMD_3.1.1_genomic.gtf -o read_count/bowtie_fct_gene mapping/SRR9106187.bam"
   ]
  },
  {
   "cell_type": "markdown",
   "id": "e43f7452",
   "metadata": {},
   "source": [
    "`Please refer here for more details about the flags used:`https://subread.sourceforge.net/featureCounts.html"
   ]
  },
  {
   "cell_type": "markdown",
   "id": "4ef5dc69",
   "metadata": {},
   "source": [
    "# Generating Read count matrix"
   ]
  },
  {
   "cell_type": "markdown",
   "id": "fe607471",
   "metadata": {},
   "source": [
    "`Cleaning up Read Count`\n",
    "\n",
    "#### Will only take those columns which we are interested in"
   ]
  },
  {
   "cell_type": "code",
   "execution_count": 3,
   "id": "44843edc",
   "metadata": {},
   "outputs": [],
   "source": [
    "!cut -f1,7,8,9,10,11,12 read_count/bowtie_fct_gene > read_count/bt2_featurecounts_gene_count.Rmatrix.txt"
   ]
  },
  {
   "cell_type": "markdown",
   "id": "c96b349f",
   "metadata": {},
   "source": [
    "#### Link: 'https://hbctraining.github.io/Intro-to-rnaseq-hpc-O2/lessons/05_counting_reads.html`"
   ]
  },
  {
   "cell_type": "markdown",
   "id": "167829c6",
   "metadata": {},
   "source": [
    "### Now we can use `gene count matrix` for further downstream analysis like DGE,etc."
   ]
  },
  {
   "cell_type": "code",
   "execution_count": null,
   "id": "a846b9aa",
   "metadata": {},
   "outputs": [],
   "source": []
  }
 ],
 "metadata": {
  "kernelspec": {
   "display_name": "Python 3 (ipykernel)",
   "language": "python",
   "name": "python3"
  },
  "language_info": {
   "codemirror_mode": {
    "name": "ipython",
    "version": 3
   },
   "file_extension": ".py",
   "mimetype": "text/x-python",
   "name": "python",
   "nbconvert_exporter": "python",
   "pygments_lexer": "ipython3",
   "version": "3.10.9"
  }
 },
 "nbformat": 4,
 "nbformat_minor": 5
}
